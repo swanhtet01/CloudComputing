{
 "cells": [
  {
   "cell_type": "markdown",
   "id": "e9d4112d",
   "metadata": {},
   "source": [
    "# Cloud Computing Assignment 1\n",
    "## MSc Business Analytics - Group A8 - A.Y. 2022/2023\n",
    "### Haifa Abdullah M Alghamdi, Maximilian Bremer, Swan Htet, Alejandro Luque, Giuliano Oscar Stefanelli\n"
   ]
  },
  {
   "cell_type": "markdown",
   "id": "238ec0e9",
   "metadata": {},
   "source": [
    "<div class=\"alert alert-warning\"> Preliminary step: lease make sure to have these libraries installed and imported</div>"
   ]
  },
  {
   "cell_type": "markdown",
   "id": "ee2124bf",
   "metadata": {},
   "source": [
    "First, we need to import the libraries. The libraries used in this project are:\n",
    "- *requests*: used to make the actual request to the API.\n",
    "- *datetime*: used to create a time stamp. \n",
    "- *hashlib*: used to create the hash parameter.\n",
    "- *pandas*: used to create the final dataframe. \n",
    "- *flask, flask_restful, flask_bcrypt,* and *flask_jwt_extended*: to successfully create our own API"
   ]
  },
  {
   "cell_type": "code",
   "execution_count": null,
   "id": "5ed459f6",
   "metadata": {},
   "outputs": [],
   "source": [
    "#import libraries:\n",
    "import requests \n",
    "import datetime \n",
    "import pandas as pd\n",
    "import hashlib\n",
    "\n",
    "#if needed, please install the libraries below:\n",
    "#pip install flask\n",
    "#pip install flask_restful\n",
    "#pip install flask_bcrypt\n",
    "#pip install flask_jwt_extended"
   ]
  },
  {
   "cell_type": "markdown",
   "id": "a5517a21",
   "metadata": {},
   "source": [
    "## Part 1: The Marvel API"
   ]
  },
  {
   "cell_type": "markdown",
   "id": "dea5d3b4",
   "metadata": {},
   "source": [
    "Once registered on the Marvel API website, we will be granted two keys (a public and a private one). Thus, it is a API with a Key Authentication method. \n",
    "Even though we should not share the private key, for educational purposes we saved both keys in the variables below."
   ]
  },
  {
   "cell_type": "code",
   "execution_count": null,
   "id": "cb7b1afa",
   "metadata": {},
   "outputs": [],
   "source": [
    "public_key = '78250442652c008eed20664b4d2b9b9e'\n",
    "private_key = '14d25b635eb90f60a4ea54a898d90e66c6114ae9'"
   ]
  },
  {
   "cell_type": "markdown",
   "id": "f509166c",
   "metadata": {},
   "source": [
    "As stated on the Marvel API website, server-side applications need two additional parameters: \n",
    "- a timestamp: *ts*.\n",
    "- a md5 digest of the *ts* parameter, your private key and your public key: *hash*. \n",
    "\n",
    "> NOTE: The hash parameter is a concatenation of strings, thus we need to convert the timestamp into a string."
   ]
  },
  {
   "cell_type": "code",
   "execution_count": null,
   "id": "cbb7f391",
   "metadata": {},
   "outputs": [],
   "source": [
    "#let's create a timestamp:\n",
    "ts = datetime.datetime.now()\n",
    "#convert ts into a string:\n",
    "ts = ts.strftime(\"%d/%m/%Y%H:%M:%S\")\n",
    "\n",
    "#let's concatenate the variables and create the hash:\n",
    "hash_parameter = ts+private_key+public_key\n",
    "hash_encoded = hashlib.md5(hash_parameter.encode('utf-8')).hexdigest()"
   ]
  },
  {
   "cell_type": "markdown",
   "id": "c0960edb",
   "metadata": {},
   "source": [
    "Let's verify whether we correctly created the two parameters by making a test call to the Marvel API. The URLs are provided on the website.\n",
    "\n",
    "To make a request, we first need to create the body of our request (the dictionary *params*) to which we pass the timestamp, the hash, and the public key.\n",
    "\n",
    "By using the library *requests* and the *get* method, we can make the test call. If everything is correct, we expect a status code of **200**. "
   ]
  },
  {
   "cell_type": "code",
   "execution_count": null,
   "id": "c5686e8b",
   "metadata": {},
   "outputs": [],
   "source": [
    "#let's test if we have access to the Marvel API now:\n",
    "url_Marvel = 'https://gateway.marvel.com:443/v1/public/characters'\n",
    "\n",
    "#let's create the body:\n",
    "params={'apikey': public_key,\n",
    "       'ts': ts,\n",
    "       'hash': hash_encoded}\n",
    "\n",
    "response = requests.get(url_Marvel, params=params)\n",
    "response.status_code #200 ==> we have correctly accessed the Marvel API"
   ]
  },
  {
   "cell_type": "markdown",
   "id": "bbc9916e",
   "metadata": {},
   "source": [
    "<div class=\"alert alert-block alert-info\"><b>Q1:</b> Provide a list of 30 Marvel characters.</div>"
   ]
  },
  {
   "cell_type": "markdown",
   "id": "8f481b04",
   "metadata": {},
   "source": [
    "We already have the correct URL to retrieve information about the characters saved in the variable *url_Marvel*. There are no other mandatory values for the body, but we need to specify that we want only 30 characters by setting *limit* to number of wanted characters.\n",
    "\n",
    "By looking at the structure of the response, we can notice how the wanted information is contained in a nested dictionary. Thus, we will modify the response to fit our needs."
   ]
  },
  {
   "cell_type": "code",
   "execution_count": null,
   "id": "8295b510",
   "metadata": {},
   "outputs": [],
   "source": [
    "params['limit'] = 30\n",
    "\n",
    "characters = requests.get(url_Marvel, params=params)\n",
    "characters.status_code #200 \n",
    "\n",
    "#notice how the data we really need is \n",
    "characters_30 = characters.json()['data']['results']\n",
    "characters_30\n"
   ]
  },
  {
   "cell_type": "markdown",
   "id": "0cbdd397",
   "metadata": {},
   "source": [
    "Let's now create a list with only the names of the 30 Marvel characters in our response. \n",
    "\n",
    "<code style=\"background:yellow;color:black\">The answer to Q1 is the list *characters_ls*.</code>"
   ]
  },
  {
   "cell_type": "code",
   "execution_count": null,
   "id": "80f78fca",
   "metadata": {},
   "outputs": [],
   "source": [
    "#let's now create a list:\n",
    "characters_ls = []\n",
    "\n",
    "for dictionary in characters_30: \n",
    "    characters_ls.append(dictionary['name'])\n",
    "    \n",
    "characters_ls"
   ]
  },
  {
   "cell_type": "markdown",
   "id": "c917255c",
   "metadata": {},
   "source": [
    "<div class=\"alert alert-block alert-info\"><b>Q2:</b> Retrieve the IDs for all the characters in your list (in str form).</div>"
   ]
  },
  {
   "cell_type": "markdown",
   "id": "6d73c819",
   "metadata": {},
   "source": [
    "To complete Q2, we need to access *characters_30*.\n",
    "\n",
    "For visual ease, we decided to store the IDs of the characters in a dictionary which keys are the names of the characters and the values are their respective IDs.\n",
    "\n",
    "<code style=\"background:yellow;color:black\">The answer to Q2 is stored in the dictionary *characters_IDs*.</code>"
   ]
  },
  {
   "cell_type": "code",
   "execution_count": null,
   "id": "24a65f89",
   "metadata": {},
   "outputs": [],
   "source": [
    "IDs = []\n",
    "for i in characters_30:\n",
    "    IDs.append(i['id'])\n",
    "\n",
    "i = 0\n",
    "charcters_IDs = {}\n",
    "\n",
    "while i < len(IDs):\n",
    "    charcters_IDs[characters_ls[i]] = str(IDs[i]) #remember we were asked to store the IDs in string format!\n",
    "    i += 1\n",
    "    \n",
    "charcters_IDs"
   ]
  },
  {
   "cell_type": "markdown",
   "id": "1933059e",
   "metadata": {},
   "source": [
    "<div class=\"alert alert-block alert-info\"><b>Q3:</b> Retrieve the total number of Events available for all the characters in your list (in integer form).</div>\n",
    "\n",
    "<div class=\"alert alert-block alert-info\"><b>Q4:</b> Retrieve the total number of Series available for all the characters in your list (in integer form).</div>\n",
    "\n",
    "<div class=\"alert alert-block alert-info\"><b>Q5:</b> Retrieve the total number of Comics available for all the characters in your list (in integer form).</div>"
   ]
  },
  {
   "cell_type": "markdown",
   "id": "f95c67ce",
   "metadata": {},
   "source": [
    "These three questions can be individually solved using the same approach by changing the parameter passed (events, series, or comics). For this reason, we decided to use a function so that we just need to change the parameter *elem*. \n",
    "\n",
    "<code style=\"background:yellow;color:black\">The answer to Q3 is stored in the dictionary *characters_events*.</code>\n",
    "\n",
    "<code style=\"background:yellow;color:black\">The answer to Q4 is stored in the dictionary *characters_series*.</code>\n",
    "\n",
    "<code style=\"background:yellow;color:black\">The answer to Q5 is stored in the dictionary *characters_comics*.</code>\n",
    "\n"
   ]
  },
  {
   "cell_type": "code",
   "execution_count": null,
   "id": "a7bcfefd",
   "metadata": {},
   "outputs": [],
   "source": [
    "def get_total_number_of(elem):\n",
    "    ls = []\n",
    "    for i in characters_30:\n",
    "        ls.append(i[elem]['available']) \n",
    "        \n",
    "    x = 0\n",
    "    result = {}\n",
    "    while x < len(ls):\n",
    "        result[characters_ls[x]] = int(ls[x])  #remember we were asked to store the total number in int format!\n",
    "        x += 1\n",
    "    return result"
   ]
  },
  {
   "cell_type": "code",
   "execution_count": null,
   "id": "ae3e2009",
   "metadata": {},
   "outputs": [],
   "source": [
    "characters_events = get_total_number_of('events')\n",
    "characters_events"
   ]
  },
  {
   "cell_type": "code",
   "execution_count": null,
   "id": "84a304a4",
   "metadata": {},
   "outputs": [],
   "source": [
    "characters_series = get_total_number_of('series')\n",
    "characters_series"
   ]
  },
  {
   "cell_type": "code",
   "execution_count": null,
   "id": "2c9200f0",
   "metadata": {},
   "outputs": [],
   "source": [
    "characters_comics = get_total_number_of('comics')\n",
    "characters_comics"
   ]
  },
  {
   "cell_type": "markdown",
   "id": "8aafc3e5",
   "metadata": {},
   "source": [
    "<div class=\"alert alert-block alert-info\"><b>Q6:</b> Retrieve the Price of the most expensive comic that the character was featured in or all the characters in your list (in float form and USD).</div>"
   ]
  },
  {
   "cell_type": "markdown",
   "id": "f3581db9",
   "metadata": {},
   "source": [
    "With the request we have previously made to the Marvel API, we do not have access to the price of the comics. Thus, we need to make another call to the API. \n",
    "\n",
    "There is a special case for the character Adam Warlock who has appeared in 188 comics. Since the Marvel API only gathers up to the first 100 entries, the additional offset needs to be taken into consideration.\n",
    "\n",
    "The Marvel API website states that the timestamp can change on a request-by-request basis, thus we decided to create a new one. "
   ]
  },
  {
   "cell_type": "code",
   "execution_count": null,
   "id": "e5c96624",
   "metadata": {},
   "outputs": [],
   "source": [
    "#let's create a new timestamp:\n",
    "ts_1 = datetime.datetime.now()\n",
    "\n",
    "#since we have to concatenate the timestamp to the public and private key, we should convert ts into a string.\n",
    "ts_1 = ts_1.strftime(\"%d/%m/%Y%H:%M:%S\")\n",
    "\n",
    "#let's create the hash:\n",
    "hash_parameter_1 = ts_1+private_key+public_key\n",
    "hash_encoded_1 = hashlib.md5(hash_parameter_1.encode('utf-8')).hexdigest()"
   ]
  },
  {
   "cell_type": "code",
   "execution_count": null,
   "id": "aebc9096",
   "metadata": {},
   "outputs": [],
   "source": [
    "comics_info = {}\n",
    "\n",
    "for char in charcters_IDs:\n",
    "    url_Marvel_1 = f'https://gateway.marvel.com:443/v1/public/characters/{charcters_IDs[char]}/comics'\n",
    "    params={'apikey': public_key,\n",
    "       'ts': ts_1,\n",
    "       'hash': hash_encoded_1,\n",
    "       'characterId' : charcters_IDs[char],\n",
    "       'limit':100\n",
    "       }\n",
    "    comics_info[char] = (requests.get(url_Marvel_1, params=params)).json()['data']['results']\n",
    "    if charcters_IDs[char] == '1010354':\n",
    "        url_Marvel_2 = f'https://gateway.marvel.com:443/v1/public/characters/1010354/comics'\n",
    "        params2={'apikey': public_key,\n",
    "           'ts': ts_1,\n",
    "           'hash': hash_encoded_1,\n",
    "           'characterId' :'1010354',\n",
    "           'limit':100,\n",
    "           'offset':100\n",
    "           }\n",
    "        extra_88 = (requests.get(url_Marvel_2, params=params2)).json()['data']['results']\n",
    "        comics_info['Adam Warlock'] += extra_88\n",
    "\n",
    "\n",
    "comics_info"
   ]
  },
  {
   "cell_type": "markdown",
   "id": "2969cd72",
   "metadata": {},
   "source": [
    "Let's now find a way to retrieve the most expensive comic for each character. We will store this information in the dictionary *character_comic_price*.\n",
    "\n",
    "We noticed that *character_comic_price* does not contain those characters who have not appeared in any comics. Hence we create a new dictionary *character_comic_price_final* to come up with the missing couple character-max price.\n",
    " "
   ]
  },
  {
   "cell_type": "code",
   "execution_count": null,
   "id": "218e96eb",
   "metadata": {},
   "outputs": [],
   "source": [
    "character_comic_price = {}\n",
    "for characters in comics_info: \n",
    "    character_comics_info = comics_info[characters]\n",
    "    price = []\n",
    "    for comic_id in character_comics_info: \n",
    "        for comic_price in comic_id['prices']: \n",
    "            price.append(float(comic_price['price'])) #remember we were asked to store the price in float format!\n",
    "        character_comic_price[characters] = (max(price))\n",
    "\n",
    "character_present = [] # characters with comics and highest relative price\n",
    "for character in character_comic_price: \n",
    "    character_present.append(character)       \n",
    "\n",
    "character_comic_price_final = {}\n",
    "\n",
    "for character in comics_info:\n",
    "    if character in character_present: \n",
    "        character_comic_price_final[character] = character_comic_price[character]\n",
    "    else: \n",
    "        character_comic_price_final[character] = float(0) #remember we were asked to store the price in float format!\n",
    "\n",
    "character_comic_price_final\n"
   ]
  },
  {
   "cell_type": "markdown",
   "id": "640d1beb",
   "metadata": {},
   "source": [
    "<div class=\"alert alert-block alert-info\"><b>Q7:</b> Store the data above in a pandas DataFrame called df containing exactly in the following columns: Character Name, Character ID, Total Available Events, Total Available Series, Total Available Comics, Price of the Most Expensive Comic.</div>\n",
    "\n",
    "> If a character is not featured in Events, Series or Comics the corresponding entry should be filled in with a None (of NoneType). If a character does not have a Price the corresponding entry should be filled in with a None (of NoneType).\n"
   ]
  },
  {
   "cell_type": "markdown",
   "id": "8733ddfa",
   "metadata": {},
   "source": [
    "Remember that the Character ID should be of string type!"
   ]
  },
  {
   "cell_type": "code",
   "execution_count": null,
   "id": "bd16a9be",
   "metadata": {},
   "outputs": [],
   "source": [
    "\n",
    "df = pd.DataFrame()\n",
    "df['Character Name'] = characters_ls\n",
    "df['Character ID']= charcters_IDs.values()\n",
    "df['Total Available Events'] = characters_events.values()\n",
    "df['Total Available Series'] = characters_series.values()\n",
    "df['Total Available Comics'] = characters_comics.values()\n",
    "df['Price of the Most Expensive Comic'] = character_comic_price_final.values()\n",
    "\n",
    "df.replace(0, None, inplace=True)\n",
    "df = df.astype({\n",
    "    'Character ID' : 'str'})\n"
   ]
  },
  {
   "cell_type": "markdown",
   "id": "20ab0130",
   "metadata": {},
   "source": [
    "<div class=\"alert alert-block alert-info\"><b>Q8:</b> Save df to a file called data.csv.</div>"
   ]
  },
  {
   "cell_type": "code",
   "execution_count": null,
   "id": "2e9acb34",
   "metadata": {},
   "outputs": [],
   "source": [
    "df.to_csv('data.csv', index=False)"
   ]
  },
  {
   "cell_type": "markdown",
   "id": "35456bf7",
   "metadata": {},
   "source": [
    "The CSV file consists in 6 columns of 30 observations, namely:\n",
    "1. Character Name: the name of the Marvel character.\n",
    "2. Character ID: unique identifier of the Marvel character.\n",
    "3. Total Available Events: the number of events the character has appeared in.\n",
    "4. Total Available Series: the number of series the character has appeared in.\n",
    "5. Total Available Comics: the number of comics the character has appeared in.\n",
    "6. Price of the Most Expensive Comic: the most expensive comic in which the character has appeared in (in US dollars)."
   ]
  },
  {
   "cell_type": "markdown",
   "id": "50a7d76e",
   "metadata": {},
   "source": [
    "## Part 2: The Marvel x Group A8 API"
   ]
  },
  {
   "cell_type": "markdown",
   "id": "511b331f",
   "metadata": {},
   "source": [
    "For Part 2, the report will be structured in the following three steps:\n",
    "\n",
    "1. In the first section, we will comment the file '*api_release_a8.py*' which contains the code used to create what we call *The Marvel x Group A8 API*. We will keep the description of the different classes and methods short.\n",
    "\n",
    "2. As all APIs do, in the second section, we will provide a documentation on how to use *The Marvel x Group A8 API* and its functionalities. \n",
    "\n",
    "3. In the third section, we will provide you with some sample codes that you can use to perform some requests to our API.\n",
    "\n"
   ]
  },
  {
   "cell_type": "markdown",
   "id": "4a90c0ed",
   "metadata": {},
   "source": [
    "## Section 1: "
   ]
  },
  {
   "cell_type": "markdown",
   "id": "769cd1ab",
   "metadata": {},
   "source": [
    "<div class=\"alert alert-block alert-info\">\n",
    "<b>Q1:</b> Create an API that allows users to interact with the DataFrame generated in the Part 1 of the assignments.\n",
    "    \n",
    "<b>Q2:</b> Create a resource called Characters and route it to the url '/characters' and endpoint 'characters'.\n",
    "</div>"
   ]
  },
  {
   "cell_type": "markdown",
   "id": "692ec296",
   "metadata": {},
   "source": [
    "<div class=\"alert alert-block alert-info\">\n",
    "<b>Q3-1:</b> Implement the method for the Character resource to retrieve the whole DataFrame in json format.\n",
    "    \n",
    "<b>Q3-2:</b> Implement the method for the Character resource to retrieve information for a single entry or for a list of entries identified by either the Character Name or the Character ID.\n",
    "</div>"
   ]
  },
  {
   "cell_type": "markdown",
   "id": "a7298295",
   "metadata": {},
   "source": [
    "We created the *get* method by tackling the above questions together. Indeed, the final user will be able to:\n",
    "- retrieve the entire dataframe if she/he will not specify the name and/or ID of the character.\n",
    "- retrieve part of the dataframe based on her/his request. The user can input a single ID, a single name, a list of IDs, or a list of names considering all the combinations of these input. For example, the user can input a list of IDs and a single name in the same *get* request."
   ]
  },
  {
   "cell_type": "markdown",
   "id": "27cc994b",
   "metadata": {},
   "source": [
    "<div class=\"alert alert-block alert-info\">\n",
    "<b>Q3-3:</b> Implement the method for the Character resource to add a new character to the existing DataFrame by specifying its characteristics (Character Name, Character ID, Available Events, Available Series, Available Comics, and Price of Comic). The API should restrict addition of characters with pre-existing Character IDs.\n",
    "    \n",
    "<b>Q3-4:</b> Implement the method for the Character resource to add a new character to the existing DataFrame by specifying only the Character ID. The API should fill in the remaining information by extracting it from Marvel's API and appending to the DataFrame. The API should return an error if the provided Character ID is not found.\n",
    "</div>"
   ]
  },
  {
   "cell_type": "markdown",
   "id": "fd2173d9",
   "metadata": {},
   "source": [
    "We created the *post* method by tackling the above questions together. To add a new character to the existing dataframe, however, the user will need to provide her/his access token in the header of the request (see samples later). The final client will have two options:\n",
    "1. She/he can provide all the necessary information and the new character will be added automatically (if already not present in the dataframe).\n",
    "2. She/he can provide only the ID of the character wanted and the other information will be retrieved from the full Marvel API."
   ]
  },
  {
   "cell_type": "markdown",
   "id": "ccad67e4",
   "metadata": {},
   "source": [
    "<div class=\"alert alert-block alert-info\"><b>Q3-5:</b> Implement the method for the Character resource to Delete a character or a list of characters by providing either the Character ID or the Character Name. The API should return an error if the character you are trying to delete does not exist in the DataFrame.</div>"
   ]
  },
  {
   "cell_type": "markdown",
   "id": "03d47a4e",
   "metadata": {},
   "source": [
    "To delete a character from the existing dataframe, the user once again needs to privide an access token. After that, the user can ask to delete a single character or a list of characters by provided the ID and/or name. For example, the client can ask to delete multiple characters by providing a list of their IDs and, in the same request, delete a single character by providing its name."
   ]
  },
  {
   "cell_type": "markdown",
   "id": "2aa53297",
   "metadata": {},
   "source": [
    "\n",
    "<div class=\"alert alert-block alert-info\"><b>Q4:</b> Protect both the addition and the deletion of characters using an OAuth authentication scheme whereby users can sign up and then log in to obtain an access token with limited scope and a duration of 1 hour.</div>\n"
   ]
  },
  {
   "cell_type": "markdown",
   "id": "cf618c37",
   "metadata": {},
   "source": [
    "To protect the *post* and *delete* methods, we created:\n",
    "- a class SignUp that will allow the user to register before using our API.\n",
    "- a class LogIn that will allow the users to login into our API and gain access to the token."
   ]
  },
  {
   "cell_type": "markdown",
   "id": "f182c647",
   "metadata": {},
   "source": [
    "\n",
    "<div class=\"alert alert-block alert-info\"><b>Bonus:</b> Write the code to enable users to modify the Price of the Most Expensive Comic by providing either the Character ID or the Character Name. The API should accept new prices in different currencies, including USD, EUR, GBP and CAD and transform them to the right values to the exanche rate of the considered date and time (+/- an hour).</div>"
   ]
  },
  {
   "cell_type": "markdown",
   "id": "9de53ae5",
   "metadata": {},
   "source": [
    "The user will be able to update the entries for the column 'Price of the Most Expensive Comic' by converting the currencies. Remember: the original currency is USD.\n",
    "> The user can convert to/from USD, EUR, GBP, CAN!"
   ]
  },
  {
   "cell_type": "markdown",
   "id": "5bcac668",
   "metadata": {},
   "source": [
    "## Section 2: "
   ]
  },
  {
   "cell_type": "markdown",
   "id": "951f43c1",
   "metadata": {},
   "source": [
    "### SIGN-UP METHOD:\n",
    "\n",
    "How to sign up to our API.\n",
    "\n",
    "\n",
    "URL: 'http://localhost:5000/signup'\n",
    "To structure the sign-up requests:\n",
    "\n",
    "\n",
    "To structure the sign-up requests:\n",
    "\n",
    "| Parameters | Data Type | Description |\n",
    "| --- | --- | --- | \n",
    "| email (required)| str | User's email | \n",
    "| password required)| str | Create your own password| "
   ]
  },
  {
   "cell_type": "markdown",
   "id": "e598d7f1",
   "metadata": {},
   "source": [
    "Errors Status Codes:\n",
    "\n",
    "| HTTP Status Code | Reason| \n",
    "| --- | --- |\n",
    "| 409 | email already exists in the database | \n"
   ]
  },
  {
   "cell_type": "markdown",
   "id": "2fb33555",
   "metadata": {},
   "source": [
    "### LOGIN METHOD:\n",
    "\n",
    "How to login to our API.\n",
    "\n",
    "\n",
    "URL: 'http://localhost:5000/login\n",
    "\n",
    "To structure the login requests:\n",
    "\n",
    "| Parameters | Data Type | Description |\n",
    "| --- | --- | --- | \n",
    "| email (required)| str | User's email | \n",
    "| password required)| str | User's password| \n",
    "\n",
    "\n",
    "REMEMEBER: after you login, you will be able to get the access_token needed to execute post and delete requests.\n",
    "\n",
    "(see Section 3 for sample code)."
   ]
  },
  {
   "cell_type": "markdown",
   "id": "2d0d24e3",
   "metadata": {},
   "source": [
    "Errors Status Codes:\n",
    "\n",
    "| HTTP Status Code | Reason| \n",
    "| --- | --- |\n",
    "| 401 | email not present in the database | \n",
    "| 402 | password not valid | \n"
   ]
  },
  {
   "cell_type": "markdown",
   "id": "052be934",
   "metadata": {},
   "source": [
    "### GET METHOD:\n",
    "\n",
    "Fetches a single character or a list of characters.\n",
    "\n",
    "\n",
    "URL: 'http://localhost:5000/characters'\n",
    "\n",
    "\n",
    "To structure the get requests:\n",
    "\n",
    "| Parameters | Data Type | Description | Examples |\n",
    "| --- | --- | --- | --- |\n",
    "| characterId (not required) | str | The ID (or list of IDs) of the character(s) you want to retrieve | '1011334' or ['1011334', '1010354'] |\n",
    "| characterName (not required)| str |The name (or list of names) of the character(s) you want to retrieve| '3-D Man' or ['3-D Man', 'A-Bomb'] |"
   ]
  },
  {
   "cell_type": "markdown",
   "id": "7d0c327d",
   "metadata": {},
   "source": [
    "Errors Status Codes:\n",
    "\n",
    "| HTTP Status Code | Reason| \n",
    "| --- | --- |\n",
    "| 404 | Character Name or Character ID requested is not present in our dataframe | \n"
   ]
  },
  {
   "cell_type": "markdown",
   "id": "3c030976",
   "metadata": {},
   "source": [
    "### POST METHOD:\n",
    "\n",
    "Adds a character to the existing dataframe.\n",
    "\n",
    "\n",
    "URL: 'http://localhost:5000/characters'\n",
    "\n",
    "\n",
    "To structure the post requests:\n",
    "\n",
    "| Parameters | Data Type | Description | Examples |\n",
    "| --- | --- | --- | --- |\n",
    "| Authorization (required) | str | It is the required access token given to the user | put example |\n",
    "| characterId (required) | str | The ID of the character you want to add | '1011334' |\n",
    "| characterName (not required)| str |The name of the character you want to retrieve| '3-D Man'|\n",
    "| number_events (not required)| int |The number of events that the character has appeared in | 1|\n",
    "| number_series (not required)| int |The number of series that the character has appeared in | 2|\n",
    "| number_comics (not required)| float |The number of comics that the character has appeared in | 3|"
   ]
  },
  {
   "cell_type": "markdown",
   "id": "8befdaef",
   "metadata": {},
   "source": [
    "Errors Status Codes:\n",
    "\n",
    "| HTTP Status Code | Reason| \n",
    "| --- | --- |\n",
    "| 401 | Connection not established | \n",
    "| 402 | Insufficient information | \n",
    "| 404 | Character ID not found | \n",
    "| 409 | Character ID already present in the dataframe| \n"
   ]
  },
  {
   "cell_type": "markdown",
   "id": "eba00f9c",
   "metadata": {},
   "source": [
    "### DELETE METHOD:\n",
    "\n",
    "Deletes a character or a list of characters from the existing dataframe.\n",
    "\n",
    "\n",
    "URL: 'http://localhost:5000/characters'\n",
    "\n",
    "\n",
    "To structure the delete requests:\n",
    "\n",
    "| Parameters | Data Type | Description | Examples |\n",
    "| --- | --- | --- | --- |\n",
    "| Authorization (required) | str | It is the required access token given to the user | put example |\n",
    "| characterId (not required) | str | The ID of the character you want to delete | '1011334' |\n",
    "| characterName (not required)| str |The name of the character you want to delete| '3-D Man'|"
   ]
  },
  {
   "cell_type": "markdown",
   "id": "eb559fd5",
   "metadata": {},
   "source": [
    "Errors Status Codes:\n",
    "\n",
    "| HTTP Status Code | Reason| \n",
    "| --- | --- | \n",
    "| 404 | characterId and/or characterName not specified | \n",
    "| 405 | characterId and/or characterName input not present in the dataframe| "
   ]
  },
  {
   "cell_type": "markdown",
   "id": "fe63c4fb",
   "metadata": {},
   "source": [
    "### PUT METHOD:\n",
    "\n",
    "Updates the highest price of the comic by converting the price from USD to the currency chosen by the user.\n",
    "\n",
    "\n",
    "URL: 'http://localhost:5000/characters' \n",
    "\n",
    "\n",
    "To structure the delete requests:\n",
    "\n",
    "| Parameters | Data Type | Description | Examples |\n",
    "| --- | --- | --- | --- |\n",
    "| Authorization (required) | str | It is the required access token given to the user | put example |\n",
    "| characterId | str | The ID of the character you want to delete | '1011334' |\n",
    "| characterName | str |The name of the character you want to delete| '3-D Man'|\n",
    "| original_currency (required)| str |The original currency (initially is 'USD')| 'USD'|\n",
    "| wanted_currency (required)| str |The wanted currency (accepts: 'USD', 'EUR', 'GBP', 'CAD'| 'EUR'|"
   ]
  },
  {
   "cell_type": "markdown",
   "id": "370140eb",
   "metadata": {},
   "source": [
    "Errors Status Codes:\n",
    "\n",
    "| HTTP Status Code | Reason| \n",
    "| --- | --- | \n",
    "| 405 | characterId/characterName input not found| "
   ]
  },
  {
   "cell_type": "markdown",
   "id": "b79c5147",
   "metadata": {},
   "source": [
    "## Section 3: "
   ]
  },
  {
   "cell_type": "code",
   "execution_count": null,
   "id": "aff2fce2",
   "metadata": {},
   "outputs": [],
   "source": [
    "# build dataframe to store users information\n",
    "df = pd.DataFrame(columns=['email', 'password'])\n",
    "df.to_csv('users.csv', index=False)"
   ]
  },
  {
   "cell_type": "markdown",
   "id": "877e8e33",
   "metadata": {},
   "source": [
    "## Welcome to *The Marvel x Group A8 API*\n",
    "### Please register to use our API:"
   ]
  },
  {
   "cell_type": "code",
   "execution_count": null,
   "id": "aaa0c545",
   "metadata": {},
   "outputs": [],
   "source": [
    "# Sign-up process:\n",
    "requests.post('http://localhost:5000/signup', params={'email': 'irene.unceta@esade.edu', 'password': '0000'}).json()"
   ]
  },
  {
   "cell_type": "markdown",
   "id": "f03fad22",
   "metadata": {},
   "source": [
    "### Thank your for registering, please login to start using the API:"
   ]
  },
  {
   "cell_type": "code",
   "execution_count": null,
   "id": "5416a2a9",
   "metadata": {},
   "outputs": [],
   "source": [
    "# Login process:\n",
    "response = requests.get('http://localhost:5000/login', params={'email': 'irene.unceta@esade.edu', 'password': '0000'}).json()\n",
    "response"
   ]
  },
  {
   "cell_type": "markdown",
   "id": "b0bc5860",
   "metadata": {},
   "source": [
    "### You're logged in! \n",
    "#### You can now start making requests to our API, remember to use your access token to add or delete characters. "
   ]
  },
  {
   "cell_type": "code",
   "execution_count": null,
   "id": "1d59f48f",
   "metadata": {},
   "outputs": [],
   "source": [
    "access_token = response['token'] #rememeber: your token expires after 1 hour!"
   ]
  },
  {
   "cell_type": "markdown",
   "id": "ab397dee",
   "metadata": {},
   "source": [
    "### \"Get\" request without specifying which character(s) to retrieve:"
   ]
  },
  {
   "cell_type": "code",
   "execution_count": null,
   "id": "6cf64edd",
   "metadata": {
    "scrolled": true
   },
   "outputs": [],
   "source": [
    "response = requests.get('http://localhost:5000/characters')\n",
    "response.status_code\n",
    "\n",
    "response.json()['response']\n",
    "\n"
   ]
  },
  {
   "cell_type": "markdown",
   "id": "5933134a",
   "metadata": {},
   "source": [
    "### \"Get\" request specifying which character(s) to retrieve:\n",
    "#### Remember: you can provide a single ID/a list of IDs and/or a single name/a list of names."
   ]
  },
  {
   "cell_type": "code",
   "execution_count": null,
   "id": "1dcd5271",
   "metadata": {},
   "outputs": [],
   "source": [
    "#requests.get('http://localhost:5000/characters', params={'characterName': ['Adam Destine','Adam Warlock'] , 'characterId':['1010903','1009149']}).json()['response']\n",
    "requests.get('http://localhost:5000/characters', params={'characterId':['1010903','1009149']}).json()['response']\n",
    "\n"
   ]
  },
  {
   "cell_type": "markdown",
   "id": "e234453e",
   "metadata": {},
   "source": [
    "### \"Post\" request specifying all the necessary information of the new character:\n"
   ]
  },
  {
   "cell_type": "code",
   "execution_count": null,
   "id": "24e59291",
   "metadata": {},
   "outputs": [],
   "source": [
    "requests.post('http://localhost:5000/characters', \n",
    "              params={\n",
    "                  'characterName': 'CloudComputing',\n",
    "                  'characterId': '12345',\n",
    "                  'number_events': 1,\n",
    "                  'number_series': 2,\n",
    "                  'number_comics': 3,\n",
    "                  'highest_price': 123\n",
    "              },\n",
    "              headers={'Authorization': f'Bearer {access_token}'}).json()\n"
   ]
  },
  {
   "cell_type": "code",
   "execution_count": null,
   "id": "72f955f4",
   "metadata": {},
   "outputs": [],
   "source": [
    "# check if the data set has been updated correctly:\n",
    "data = pd.read_csv('data.csv')\n",
    "data "
   ]
  },
  {
   "cell_type": "markdown",
   "id": "da5eca66",
   "metadata": {},
   "source": [
    "### \"Post\" request specifying only the character ID: "
   ]
  },
  {
   "cell_type": "code",
   "execution_count": null,
   "id": "6edf59de",
   "metadata": {},
   "outputs": [],
   "source": [
    "requests.post('http://localhost:5000/characters', \n",
    "              params={\n",
    "                  'characterId': '1009435'\n",
    "              },\n",
    "              headers={'Authorization': f'Bearer {access_token}'}).json()"
   ]
  },
  {
   "cell_type": "code",
   "execution_count": null,
   "id": "a94e9e70",
   "metadata": {},
   "outputs": [],
   "source": [
    "# check if the data set has been updated correctly:\n",
    "data = pd.read_csv('data.csv')\n",
    "data"
   ]
  },
  {
   "cell_type": "markdown",
   "id": "30cfc23d",
   "metadata": {},
   "source": [
    "### \"Delete\" request specifying only the character ID (character name): \n",
    "#### Remember: you can provide a single ID/a list of IDs and/or a single name/a list of names."
   ]
  },
  {
   "cell_type": "code",
   "execution_count": null,
   "id": "2cbc4cfe",
   "metadata": {},
   "outputs": [],
   "source": [
    "requests.delete('http://localhost:5000/characters', params={'characterId': 1009435},headers={'Authorization': f'Bearer {access_token}'}).json()\n"
   ]
  },
  {
   "cell_type": "code",
   "execution_count": null,
   "id": "516c175a",
   "metadata": {},
   "outputs": [],
   "source": [
    "# check if the data set has been updated correctly:\n",
    "data = pd.read_csv('data.csv')\n",
    "data"
   ]
  },
  {
   "cell_type": "markdown",
   "id": "1495574f",
   "metadata": {},
   "source": [
    "### \"Delete\" request specifying only the character ID (character name): "
   ]
  },
  {
   "cell_type": "code",
   "execution_count": null,
   "id": "0182db13",
   "metadata": {},
   "outputs": [],
   "source": [
    "requests.put('http://localhost:5000/characters', params = {\n",
    "    'original_currency': 'USD',\n",
    "    'wanted_currency': 'GBP',\n",
    "    'characterId':'12345'},headers={'Authorization': f'Bearer {access_token}'}).json()"
   ]
  },
  {
   "cell_type": "code",
   "execution_count": null,
   "id": "142ebe0e",
   "metadata": {},
   "outputs": [],
   "source": [
    "# check if the data set has been updated correctly:\n",
    "data = pd.read_csv('data.csv')\n",
    "data"
   ]
  }
 ],
 "metadata": {
  "kernelspec": {
   "display_name": "Python 3 (ipykernel)",
   "language": "python",
   "name": "python3"
  },
  "language_info": {
   "codemirror_mode": {
    "name": "ipython",
    "version": 3
   },
   "file_extension": ".py",
   "mimetype": "text/x-python",
   "name": "python",
   "nbconvert_exporter": "python",
   "pygments_lexer": "ipython3",
   "version": "3.9.12"
  }
 },
 "nbformat": 4,
 "nbformat_minor": 5
}
